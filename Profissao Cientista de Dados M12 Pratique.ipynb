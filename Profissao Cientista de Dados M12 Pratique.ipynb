{
 "cells": [
  {
   "cell_type": "markdown",
   "metadata": {
    "id": "bkU9IyDLmY2_"
   },
   "source": [
    "# **MÓDULO 12 - Pratique**\n"
   ]
  },
  {
   "cell_type": "markdown",
   "metadata": {
    "id": "1Ytt6MromeRF"
   },
   "source": [
    "Abaixo temos um dataframe com as seguintes informações:\n",
    "\n",
    "\n",
    "**Nome:** O nome de cada indivíduo da base\n",
    "\n",
    "\n",
    "**Idade:** A idade de cada um deles\n",
    "\n",
    "\n",
    "**Profissão:** A atual ocupação\n",
    "\n",
    "\n",
    "**Salário:** O salário registrado\n",
    "\n",
    "\n",
    "**Limite de crédito:** O limite de crédito disponível para cada um dos indivíduos\n",
    "\n",
    "\n",
    "**Historico_Inadimplencia:** Marco como 0 aqueles que nunca tiveram um histórico de inadimplência e como 1 aqueles que já tiveram em algum momento.\n",
    "\n",
    "\n",
    "**Estado civil:** O estado civil de cada um deles\n",
    "\n",
    "\n",
    "**Imovel_Proprio:** Marcado como 0 aqueles que não tem imóvel próprio e como 1 aqueles que tem."
   ]
  },
  {
   "cell_type": "code",
   "execution_count": 9,
   "metadata": {
    "id": "Y0_G9g-4gIHw"
   },
   "outputs": [],
   "source": [
    "import pandas as pd\n",
    "import matplotlib.pyplot as plt\n",
    "import seaborn as sns\n",
    "import numpy as np"
   ]
  },
  {
   "cell_type": "code",
   "execution_count": 11,
   "metadata": {
    "colab": {
     "base_uri": "https://localhost:8080/",
     "height": 206
    },
    "id": "243WKIWekOuq",
    "outputId": "c378c102-902d-44e5-8573-4e587a59652a"
   },
   "outputs": [],
   "source": [
    "\n",
    "data = {\n",
    "    'Nome': ['Alice', 'Joao', 'Charlie', 'David', 'Eva', 'Diego', 'Denize', 'Claudio'],\n",
    "    'Idade': [25, 30, 35, 40, 45, 60, 22, 24],\n",
    "    'Profissão': ['Engenheiro', 'Médico', 'Professor', 'Advogado', 'Médico','Engenheiro', 'Estudante','Estudante'],\n",
    "    'Salário': ['4500', '8000', '5000', '10000', '12000','15000', '1200','1500'],\n",
    "    'Limite_Credito': ['2500', '4000', '4000', '1000', '10000','2000', '500','250'],\n",
    "    'Historico_Inadimplencia': ['0', '0', '0', '1', '0','1', '0','1'],\n",
    "    'Estado_Civil': ['Casamento', 'Casamento', 'Solteiro', 'Solteiro', 'Casamento','Solteiro', 'Solteiro','Solteiro'],\n",
    "    'Imovel_Proprio': ['0', '0', '0', '1', '1','1', '0','0']\n",
    "}"
   ]
  },
  {
   "cell_type": "markdown",
   "metadata": {
    "id": "T9GPf4UWnRmO"
   },
   "source": [
    "A proposta da atividade é que utilizem os dados do DataFrame Data e escolham apenas 3 gráficos que ajudem vocês a identificar quais fatores são os principais impulsionadores para aqueles que tem limite de crédito alto.\n",
    "\n",
    "Durante a exploração de vocês podem utilizar mais de 3 gráficos mas deixem na entrega final apenas os 3 mais assertivos que contenham a informação da mensagem que querem passar, fiquem livres para utilizar as bibliotecas que quiserem para os gráficos."
   ]
  },
  {
   "cell_type": "markdown",
   "metadata": {
    "id": "50nkpyiKnqxu"
   },
   "source": [
    "Justifiquem a escolha dos visuais e despertem o lado analítico de vocês com uma análise acerca do descoberto através dos gráficos. Lembrem o que aprendemos na aula, devemos ser assertivos na nossa mensagem."
   ]
  },
  {
   "cell_type": "code",
   "execution_count": 13,
   "metadata": {},
   "outputs": [
    {
     "data": {
      "text/html": [
       "<div>\n",
       "<style scoped>\n",
       "    .dataframe tbody tr th:only-of-type {\n",
       "        vertical-align: middle;\n",
       "    }\n",
       "\n",
       "    .dataframe tbody tr th {\n",
       "        vertical-align: top;\n",
       "    }\n",
       "\n",
       "    .dataframe thead th {\n",
       "        text-align: right;\n",
       "    }\n",
       "</style>\n",
       "<table border=\"1\" class=\"dataframe\">\n",
       "  <thead>\n",
       "    <tr style=\"text-align: right;\">\n",
       "      <th></th>\n",
       "      <th>Nome</th>\n",
       "      <th>Idade</th>\n",
       "      <th>Profissão</th>\n",
       "      <th>Salário</th>\n",
       "      <th>Limite_Credito</th>\n",
       "      <th>Historico_Inadimplencia</th>\n",
       "      <th>Estado_Civil</th>\n",
       "      <th>Imovel_Proprio</th>\n",
       "    </tr>\n",
       "  </thead>\n",
       "  <tbody>\n",
       "    <tr>\n",
       "      <th>0</th>\n",
       "      <td>Alice</td>\n",
       "      <td>25</td>\n",
       "      <td>Engenheiro</td>\n",
       "      <td>4500</td>\n",
       "      <td>2500</td>\n",
       "      <td>Não</td>\n",
       "      <td>Casado</td>\n",
       "      <td>Não</td>\n",
       "    </tr>\n",
       "    <tr>\n",
       "      <th>1</th>\n",
       "      <td>Joao</td>\n",
       "      <td>30</td>\n",
       "      <td>Médico</td>\n",
       "      <td>8000</td>\n",
       "      <td>4000</td>\n",
       "      <td>Não</td>\n",
       "      <td>Casado</td>\n",
       "      <td>Não</td>\n",
       "    </tr>\n",
       "    <tr>\n",
       "      <th>2</th>\n",
       "      <td>Charlie</td>\n",
       "      <td>35</td>\n",
       "      <td>Professor</td>\n",
       "      <td>5000</td>\n",
       "      <td>4000</td>\n",
       "      <td>Não</td>\n",
       "      <td>Solteiro</td>\n",
       "      <td>Não</td>\n",
       "    </tr>\n",
       "    <tr>\n",
       "      <th>3</th>\n",
       "      <td>David</td>\n",
       "      <td>40</td>\n",
       "      <td>Advogado</td>\n",
       "      <td>10000</td>\n",
       "      <td>1000</td>\n",
       "      <td>Sim</td>\n",
       "      <td>Solteiro</td>\n",
       "      <td>Sim</td>\n",
       "    </tr>\n",
       "    <tr>\n",
       "      <th>4</th>\n",
       "      <td>Eva</td>\n",
       "      <td>45</td>\n",
       "      <td>Médico</td>\n",
       "      <td>12000</td>\n",
       "      <td>10000</td>\n",
       "      <td>Não</td>\n",
       "      <td>Casado</td>\n",
       "      <td>Sim</td>\n",
       "    </tr>\n",
       "    <tr>\n",
       "      <th>5</th>\n",
       "      <td>Diego</td>\n",
       "      <td>60</td>\n",
       "      <td>Engenheiro</td>\n",
       "      <td>15000</td>\n",
       "      <td>2000</td>\n",
       "      <td>Sim</td>\n",
       "      <td>Solteiro</td>\n",
       "      <td>Sim</td>\n",
       "    </tr>\n",
       "    <tr>\n",
       "      <th>6</th>\n",
       "      <td>Denize</td>\n",
       "      <td>22</td>\n",
       "      <td>Estudante</td>\n",
       "      <td>1200</td>\n",
       "      <td>500</td>\n",
       "      <td>Não</td>\n",
       "      <td>Solteiro</td>\n",
       "      <td>Não</td>\n",
       "    </tr>\n",
       "    <tr>\n",
       "      <th>7</th>\n",
       "      <td>Claudio</td>\n",
       "      <td>24</td>\n",
       "      <td>Estudante</td>\n",
       "      <td>1500</td>\n",
       "      <td>250</td>\n",
       "      <td>Sim</td>\n",
       "      <td>Solteiro</td>\n",
       "      <td>Não</td>\n",
       "    </tr>\n",
       "  </tbody>\n",
       "</table>\n",
       "</div>"
      ],
      "text/plain": [
       "      Nome  Idade   Profissão Salário Limite_Credito Historico_Inadimplencia  \\\n",
       "0    Alice     25  Engenheiro    4500           2500                     Não   \n",
       "1     Joao     30      Médico    8000           4000                     Não   \n",
       "2  Charlie     35   Professor    5000           4000                     Não   \n",
       "3    David     40    Advogado   10000           1000                     Sim   \n",
       "4      Eva     45      Médico   12000          10000                     Não   \n",
       "5    Diego     60  Engenheiro   15000           2000                     Sim   \n",
       "6   Denize     22   Estudante    1200            500                     Não   \n",
       "7  Claudio     24   Estudante    1500            250                     Sim   \n",
       "\n",
       "  Estado_Civil Imovel_Proprio  \n",
       "0       Casado            Não  \n",
       "1       Casado            Não  \n",
       "2     Solteiro            Não  \n",
       "3     Solteiro            Sim  \n",
       "4       Casado            Sim  \n",
       "5     Solteiro            Sim  \n",
       "6     Solteiro            Não  \n",
       "7     Solteiro            Não  "
      ]
     },
     "execution_count": 13,
     "metadata": {},
     "output_type": "execute_result"
    }
   ],
   "source": [
    "df = pd.DataFrame(data)\n",
    "\n",
    "df['Estado_Civil'] = df['Estado_Civil'].str.replace('Casamento', 'Casado', regex=False)\n",
    "df['Imovel_Proprio'] = df['Imovel_Proprio'].str.replace('0', 'Não', regex=False)\n",
    "df['Imovel_Proprio'] = df['Imovel_Proprio'].str.replace('1', 'Sim', regex=False)\n",
    "df['Historico_Inadimplencia'] = df['Historico_Inadimplencia'].str.replace('0', 'Não', regex=False)\n",
    "df['Historico_Inadimplencia'] = df['Historico_Inadimplencia'].str.replace('1', 'Sim', regex=False)\n",
    "\n",
    "df.head(8)"
   ]
  },
  {
   "cell_type": "code",
   "execution_count": 15,
   "metadata": {},
   "outputs": [
    {
     "data": {
      "text/plain": [
       "Text(0.5, 1.0, 'Inadimplência')"
      ]
     },
     "execution_count": 15,
     "metadata": {},
     "output_type": "execute_result"
    },
    {
     "data": {
      "image/png": "[encoded data removed]",
      "text/plain": [
       "<Figure size 500x500 with 1 Axes>"
      ]
     },
     "metadata": {},
     "output_type": "display_data"
    }
   ],
   "source": [
    "# O Gráfico de setores foi escolhido para ter uma noção da quantidade de pessoas que são inadimplentes\n",
    "\n",
    "x = df['Historico_Inadimplencia'].value_counts().index\n",
    "y = df['Historico_Inadimplencia'].value_counts().values\n",
    "\n",
    "plt.figure(figsize=(5, 5))\n",
    "plt.pie(y, labels=x, autopct='%.1f%%', startangle=90)\n",
    "plt.title('Inadimplência')"
   ]
  },
  {
   "cell_type": "code",
   "execution_count": 17,
   "metadata": {},
   "outputs": [
    {
     "data": {
      "image/png": "[encoded data removed]",
      "text/plain": [
       "<Figure size 500x500 with 1 Axes>"
      ]
     },
     "metadata": {},
     "output_type": "display_data"
    }
   ],
   "source": [
    "#Aqui eu fiz uma comparação para saber se o salário e o estado civil foram fatores que influenciaram a inadimplêcia\n",
    "\n",
    "plt.figure(figsize=(5,5))\n",
    "sns.countplot(x='Estado_Civil', hue='Historico_Inadimplencia', data=df, palette='pastel')\n",
    "plt.xlabel('Estado_Civil')\n",
    "plt.ylabel('Salário')\n",
    "plt.legend(title='Inadimplencia')\n",
    "plt.show()"
   ]
  },
  {
   "cell_type": "code",
   "execution_count": 19,
   "metadata": {},
   "outputs": [
    {
     "data": {
      "image/png": "[encoded data removed]",
      "text/plain": [
       "<Figure size 500x500 with 1 Axes>"
      ]
     },
     "metadata": {},
     "output_type": "display_data"
    }
   ],
   "source": [
    "#Nesse gráfico é possivél ver que aqueles que são inadimplêntes conseguem um limite de crédito menor do que aqueles que não são\n",
    "\n",
    "plt.figure(figsize=(5,5))\n",
    "df['Historico_Inadimplencia'].value_counts().plot(kind='bar', color='#90ee70')\n",
    "plt.xlabel('Historico_Inadimplencia')\n",
    "plt.ylabel('Limite_Credito')\n",
    "plt.legend(title='Inadimplencia')\n",
    "plt.xticks(rotation=0)\n",
    "plt.show()"
   ]
  }
 ],
 "metadata": {
  "colab": {
   "provenance": []
  },
  "kernelspec": {
   "display_name": "Python 3 (ipykernel)",
   "language": "python",
   "name": "python3"
  },
  "language_info": {
   "codemirror_mode": {
    "name": "ipython",
    "version": 3
   },
   "file_extension": ".py",
   "mimetype": "text/x-python",
   "name": "python",
   "nbconvert_exporter": "python",
   "pygments_lexer": "ipython3",
   "version": "3.12.4"
  }
 },
 "nbformat": 4,
 "nbformat_minor": 4
}
